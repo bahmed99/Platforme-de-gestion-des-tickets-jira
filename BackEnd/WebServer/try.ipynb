{
 "cells": [
  {
   "cell_type": "code",
   "execution_count": 8,
   "metadata": {},
   "outputs": [],
   "source": [
    "from jira.client import JIRA\n",
    "options = {'server': \"https://hibernate.atlassian.net/\"}\n",
    "jira = JIRA(options, basic_auth=(\"ossama.kordoghli@ensi-uma.tn\", \"cOchFOzwM9kPculNOs1p343D\"))\n",
    "# d,l=productivity_jira(\"ANN\",jira)"
   ]
  },
  {
   "cell_type": "code",
   "execution_count": 4,
   "metadata": {},
   "outputs": [],
   "source": [
    "issues = jira.search_issues('project={}'.format(\"ANN\"),  0,100)"
   ]
  },
  {
   "cell_type": "code",
   "execution_count": 5,
   "metadata": {},
   "outputs": [
    {
     "data": {
      "text/plain": [
       "[<JIRA Issue: key='ANN-805', id='19536'>]"
      ]
     },
     "execution_count": 5,
     "metadata": {},
     "output_type": "execute_result"
    }
   ],
   "source": [
    "ticket = jira.search_issues('project=ANN', 1,1)\n",
    "ticket"
   ]
  },
  {
   "cell_type": "code",
   "execution_count": 6,
   "metadata": {},
   "outputs": [
    {
     "data": {
      "text/plain": [
       "2"
      ]
     },
     "execution_count": 6,
     "metadata": {},
     "output_type": "execute_result"
    }
   ],
   "source": [
    "len(ticket[0].fields.customfield_10050)"
   ]
  },
  {
   "cell_type": "code",
   "execution_count": 7,
   "metadata": {},
   "outputs": [
    {
     "name": "stdout",
     "output_type": "stream",
     "text": [
      "2009-02-23T10:06:30.448-0800\n",
      "2009-05-05T14:14:09.040-0700\n"
     ]
    }
   ],
   "source": [
    "print(issues[1].fields.created)\n",
    "print(issues[1].fields.resolutiondate)"
   ]
  },
  {
   "cell_type": "code",
   "execution_count": 8,
   "metadata": {},
   "outputs": [
    {
     "data": {
      "text/plain": [
       "['2009-03-31T06:49:25', '767-0700']"
      ]
     },
     "execution_count": 8,
     "metadata": {},
     "output_type": "execute_result"
    }
   ],
   "source": [
    "issues[0].fields.resolutiondate.split('.')"
   ]
  },
  {
   "cell_type": "code",
   "execution_count": 9,
   "metadata": {},
   "outputs": [
    {
     "name": "stdout",
     "output_type": "stream",
     "text": [
      "2022-04-13 21:36:02.064805\n"
     ]
    }
   ],
   "source": [
    "from datetime import datetime,date,timedelta\n",
    "d1=datetime.strptime((issues[59].fields.resolutiondate.split('.'))[0],'%Y-%m-%dT%H:%M:%S')\n",
    "d1.year\n",
    "print(datetime.today()-timedelta(7))"
   ]
  },
  {
   "cell_type": "code",
   "execution_count": 10,
   "metadata": {},
   "outputs": [
    {
     "data": {
      "text/plain": [
       "'ANN-813'"
      ]
     },
     "execution_count": 10,
     "metadata": {},
     "output_type": "execute_result"
    }
   ],
   "source": [
    "issues[0].key"
   ]
  },
  {
   "cell_type": "code",
   "execution_count": 11,
   "metadata": {},
   "outputs": [],
   "source": [
    "def productivity_jira(project,jira):\n",
    "    data=[]\n",
    "    #data=[{}]\n",
    "    last_ticket=\"\"\n",
    "    persons=[]\n",
    "    i=0\n",
    "    test=False\n",
    "    size = 100\n",
    "    initial = 0\n",
    "    while True:\n",
    "        start= initial*size\n",
    "        issues = jira.search_issues('project={}'.format(project), start,size)\n",
    "        if len(issues) == 0:\n",
    "            break\n",
    "        initial += 1\n",
    "\n",
    "        if(not test):\n",
    "            last_ticket=issues[0].key.split(\"-\")[1]\n",
    "            test=True\n",
    "        \n",
    "        for issue in issues:\n",
    "            for j in range(len(issue.fields.customfield_10050)):\n",
    "                if(issue.fields.customfield_10050[j].displayName not in persons):  \n",
    "                    data.append({\"name\":\"\",\"closed tickets\":0,\"all tickets\":0,\"remain_tickets\":0,\"in progress\":0,\"tickets with issues\":0})\n",
    "                    persons.append(issue.fields.customfield_10050[j].displayName)\n",
    "                    data[i][\"name\"]=issue.fields.customfield_10050[j].displayName\n",
    "   \n",
    "                    i+=1\n",
    "\n",
    "                \n",
    "        for issue in issues:\n",
    "            for e in data :\n",
    "                for j in range(len(issue.fields.customfield_10050)):\n",
    "                    if(issue.fields.customfield_10050[j].displayName==e[\"name\"]):\n",
    "                        e[\"all tickets\"]+=1\n",
    "                        if(issue.fields.status.name=='Closed' or issue.fields.status.name=='Resolved') :\n",
    "                            e[\"closed tickets\"]+=1\n",
    "                        elif(issue.fields.status.name=='Open') :\n",
    "                            e[\"in progress\"]+=1\n",
    "                        #elif(eli andhom mochkla fel resolution)\n",
    "                            #e[\"tickets with issues\"]+=1\n",
    "                    e[\"remain tickets\"]=e[\"all tickets\"]-e[\"closed tickets\"] #neksa tickets with issues\n",
    "        \n",
    "    return data,last_ticket"
   ]
  },
  {
   "cell_type": "code",
   "execution_count": null,
   "metadata": {},
   "outputs": [],
   "source": []
  },
  {
   "cell_type": "code",
   "execution_count": 4,
   "metadata": {},
   "outputs": [],
   "source": [
    "import pandas as pd \n",
    "import matplotlib.pyplot as plt\n",
    "import numpy as np \n",
    "import warnings\n",
    "warnings.filterwarnings('ignore')\n",
    "import math\n",
    "import pickle\n"
   ]
  },
  {
   "cell_type": "code",
   "execution_count": 13,
   "metadata": {},
   "outputs": [],
   "source": [
    "data= pd.read_csv(\"./data.csv\")"
   ]
  },
  {
   "cell_type": "code",
   "execution_count": 14,
   "metadata": {},
   "outputs": [
    {
     "data": {
      "text/html": [
       "<div>\n",
       "<style scoped>\n",
       "    .dataframe tbody tr th:only-of-type {\n",
       "        vertical-align: middle;\n",
       "    }\n",
       "\n",
       "    .dataframe tbody tr th {\n",
       "        vertical-align: top;\n",
       "    }\n",
       "\n",
       "    .dataframe thead th {\n",
       "        text-align: right;\n",
       "    }\n",
       "</style>\n",
       "<table border=\"1\" class=\"dataframe\">\n",
       "  <thead>\n",
       "    <tr style=\"text-align: right;\">\n",
       "      <th></th>\n",
       "      <th>Type de ticket</th>\n",
       "      <th>Priorité</th>\n",
       "      <th>Nombre de Champs personnalisés (Participants)</th>\n",
       "      <th>Annee</th>\n",
       "      <th>Jour</th>\n",
       "      <th>Mois</th>\n",
       "      <th>Nombre de Composants</th>\n",
       "      <th>Nombre de Versions corrigées</th>\n",
       "      <th>Nb_heures</th>\n",
       "      <th>Type de Version</th>\n",
       "    </tr>\n",
       "  </thead>\n",
       "  <tbody>\n",
       "    <tr>\n",
       "      <th>0</th>\n",
       "      <td>Tâche</td>\n",
       "      <td>1</td>\n",
       "      <td>1</td>\n",
       "      <td>2022</td>\n",
       "      <td>0</td>\n",
       "      <td>3</td>\n",
       "      <td>1</td>\n",
       "      <td>0</td>\n",
       "      <td>2</td>\n",
       "      <td>Majeur</td>\n",
       "    </tr>\n",
       "    <tr>\n",
       "      <th>1</th>\n",
       "      <td>Tâche</td>\n",
       "      <td>1</td>\n",
       "      <td>1</td>\n",
       "      <td>2022</td>\n",
       "      <td>6</td>\n",
       "      <td>3</td>\n",
       "      <td>1</td>\n",
       "      <td>0</td>\n",
       "      <td>2</td>\n",
       "      <td>Majeur</td>\n",
       "    </tr>\n",
       "    <tr>\n",
       "      <th>2</th>\n",
       "      <td>Tâche</td>\n",
       "      <td>1</td>\n",
       "      <td>1</td>\n",
       "      <td>2022</td>\n",
       "      <td>0</td>\n",
       "      <td>2</td>\n",
       "      <td>1</td>\n",
       "      <td>0</td>\n",
       "      <td>20</td>\n",
       "      <td>Majeur</td>\n",
       "    </tr>\n",
       "    <tr>\n",
       "      <th>3</th>\n",
       "      <td>Tâche</td>\n",
       "      <td>1</td>\n",
       "      <td>1</td>\n",
       "      <td>2022</td>\n",
       "      <td>3</td>\n",
       "      <td>1</td>\n",
       "      <td>1</td>\n",
       "      <td>0</td>\n",
       "      <td>4</td>\n",
       "      <td>Majeur</td>\n",
       "    </tr>\n",
       "    <tr>\n",
       "      <th>4</th>\n",
       "      <td>Tâche</td>\n",
       "      <td>1</td>\n",
       "      <td>1</td>\n",
       "      <td>2022</td>\n",
       "      <td>2</td>\n",
       "      <td>1</td>\n",
       "      <td>1</td>\n",
       "      <td>0</td>\n",
       "      <td>6</td>\n",
       "      <td>Majeur</td>\n",
       "    </tr>\n",
       "    <tr>\n",
       "      <th>...</th>\n",
       "      <td>...</td>\n",
       "      <td>...</td>\n",
       "      <td>...</td>\n",
       "      <td>...</td>\n",
       "      <td>...</td>\n",
       "      <td>...</td>\n",
       "      <td>...</td>\n",
       "      <td>...</td>\n",
       "      <td>...</td>\n",
       "      <td>...</td>\n",
       "    </tr>\n",
       "    <tr>\n",
       "      <th>102349</th>\n",
       "      <td>Bug</td>\n",
       "      <td>5</td>\n",
       "      <td>5</td>\n",
       "      <td>2019</td>\n",
       "      <td>6</td>\n",
       "      <td>3</td>\n",
       "      <td>4</td>\n",
       "      <td>4</td>\n",
       "      <td>7</td>\n",
       "      <td>Mineur</td>\n",
       "    </tr>\n",
       "    <tr>\n",
       "      <th>102350</th>\n",
       "      <td>Tâche</td>\n",
       "      <td>5</td>\n",
       "      <td>5</td>\n",
       "      <td>2009</td>\n",
       "      <td>6</td>\n",
       "      <td>3</td>\n",
       "      <td>3</td>\n",
       "      <td>3</td>\n",
       "      <td>7</td>\n",
       "      <td>Mineur</td>\n",
       "    </tr>\n",
       "    <tr>\n",
       "      <th>102351</th>\n",
       "      <td>Sous-tâche</td>\n",
       "      <td>4</td>\n",
       "      <td>5</td>\n",
       "      <td>2019</td>\n",
       "      <td>7</td>\n",
       "      <td>7</td>\n",
       "      <td>3</td>\n",
       "      <td>4</td>\n",
       "      <td>2</td>\n",
       "      <td>Majeur</td>\n",
       "    </tr>\n",
       "    <tr>\n",
       "      <th>102352</th>\n",
       "      <td>Tâche</td>\n",
       "      <td>4</td>\n",
       "      <td>5</td>\n",
       "      <td>2016</td>\n",
       "      <td>6</td>\n",
       "      <td>3</td>\n",
       "      <td>3</td>\n",
       "      <td>3</td>\n",
       "      <td>6</td>\n",
       "      <td>Patch</td>\n",
       "    </tr>\n",
       "    <tr>\n",
       "      <th>102353</th>\n",
       "      <td>Amélioration</td>\n",
       "      <td>4</td>\n",
       "      <td>5</td>\n",
       "      <td>2017</td>\n",
       "      <td>6</td>\n",
       "      <td>6</td>\n",
       "      <td>4</td>\n",
       "      <td>3</td>\n",
       "      <td>6</td>\n",
       "      <td>Mineur</td>\n",
       "    </tr>\n",
       "  </tbody>\n",
       "</table>\n",
       "<p>102354 rows × 10 columns</p>\n",
       "</div>"
      ],
      "text/plain": [
       "       Type de ticket  Priorité  \\\n",
       "0               Tâche         1   \n",
       "1               Tâche         1   \n",
       "2               Tâche         1   \n",
       "3               Tâche         1   \n",
       "4               Tâche         1   \n",
       "...               ...       ...   \n",
       "102349            Bug         5   \n",
       "102350          Tâche         5   \n",
       "102351     Sous-tâche         4   \n",
       "102352          Tâche         4   \n",
       "102353   Amélioration         4   \n",
       "\n",
       "        Nombre de Champs personnalisés (Participants)  Annee  Jour  Mois  \\\n",
       "0                                                   1   2022     0     3   \n",
       "1                                                   1   2022     6     3   \n",
       "2                                                   1   2022     0     2   \n",
       "3                                                   1   2022     3     1   \n",
       "4                                                   1   2022     2     1   \n",
       "...                                               ...    ...   ...   ...   \n",
       "102349                                              5   2019     6     3   \n",
       "102350                                              5   2009     6     3   \n",
       "102351                                              5   2019     7     7   \n",
       "102352                                              5   2016     6     3   \n",
       "102353                                              5   2017     6     6   \n",
       "\n",
       "        Nombre de Composants  Nombre de Versions corrigées  Nb_heures  \\\n",
       "0                          1                             0          2   \n",
       "1                          1                             0          2   \n",
       "2                          1                             0         20   \n",
       "3                          1                             0          4   \n",
       "4                          1                             0          6   \n",
       "...                      ...                           ...        ...   \n",
       "102349                     4                             4          7   \n",
       "102350                     3                             3          7   \n",
       "102351                     3                             4          2   \n",
       "102352                     3                             3          6   \n",
       "102353                     4                             3          6   \n",
       "\n",
       "       Type de Version  \n",
       "0               Majeur  \n",
       "1               Majeur  \n",
       "2               Majeur  \n",
       "3               Majeur  \n",
       "4               Majeur  \n",
       "...                ...  \n",
       "102349          Mineur  \n",
       "102350          Mineur  \n",
       "102351          Majeur  \n",
       "102352           Patch  \n",
       "102353          Mineur  \n",
       "\n",
       "[102354 rows x 10 columns]"
      ]
     },
     "execution_count": 14,
     "metadata": {},
     "output_type": "execute_result"
    }
   ],
   "source": [
    "data"
   ]
  },
  {
   "cell_type": "code",
   "execution_count": 15,
   "metadata": {},
   "outputs": [],
   "source": [
    "filehandler2 = open('../IA/time', 'rb')\n",
    "\n",
    "loaded_model = pickle.load(filehandler2)\n",
    "filehandler2.close()"
   ]
  },
  {
   "cell_type": "code",
   "execution_count": 16,
   "metadata": {},
   "outputs": [],
   "source": [
    "file = open('../IA/encoderTypeTicket', 'rb')\n",
    "\n",
    "Type_ticket = pickle.load(file)\n",
    "file.close()"
   ]
  },
  {
   "cell_type": "code",
   "execution_count": 17,
   "metadata": {},
   "outputs": [],
   "source": [
    "from sklearn.preprocessing import LabelEncoder\n",
    "Trans = LabelEncoder()\n",
    "data[\"Type de ticket\"]=Type_ticket.transform(data[\"Type de ticket\"])\n"
   ]
  },
  {
   "cell_type": "code",
   "execution_count": 18,
   "metadata": {},
   "outputs": [],
   "source": [
    "file1 = open('../IA/encoderTypeVersion', 'rb')\n",
    "\n",
    "Type_Version = pickle.load(file1)\n",
    "file1.close()"
   ]
  },
  {
   "cell_type": "code",
   "execution_count": 19,
   "metadata": {},
   "outputs": [],
   "source": [
    "from sklearn.preprocessing import LabelEncoder\n",
    "Trans = LabelEncoder()\n",
    "data[\"Type de Version\"]=Type_Version.transform(data[\"Type de Version\"])"
   ]
  },
  {
   "cell_type": "code",
   "execution_count": 20,
   "metadata": {},
   "outputs": [],
   "source": [
    "# preds=loaded_model.predict(data[[\"Type de ticket\",\"Priorité\",\"Nombre de Champs personnalisés (Participants)\",\"Annee\",\"Jour\",\"Mois\",\"Nombre de Composants\",\"Nombre de Versions corrigées\",\"Type de Version\"]])\n",
    "preds=loaded_model.predict([[1,1,1,2022,1,3,1,10,0]])"
   ]
  },
  {
   "cell_type": "code",
   "execution_count": 21,
   "metadata": {},
   "outputs": [
    {
     "data": {
      "text/plain": [
       "13.62"
      ]
     },
     "execution_count": 21,
     "metadata": {},
     "output_type": "execute_result"
    }
   ],
   "source": [
    "preds[0]"
   ]
  },
  {
   "cell_type": "code",
   "execution_count": 22,
   "metadata": {},
   "outputs": [
    {
     "data": {
      "text/html": [
       "<div>\n",
       "<style scoped>\n",
       "    .dataframe tbody tr th:only-of-type {\n",
       "        vertical-align: middle;\n",
       "    }\n",
       "\n",
       "    .dataframe tbody tr th {\n",
       "        vertical-align: top;\n",
       "    }\n",
       "\n",
       "    .dataframe thead th {\n",
       "        text-align: right;\n",
       "    }\n",
       "</style>\n",
       "<table border=\"1\" class=\"dataframe\">\n",
       "  <thead>\n",
       "    <tr style=\"text-align: right;\">\n",
       "      <th></th>\n",
       "      <th>Type de ticket</th>\n",
       "      <th>Priorité</th>\n",
       "      <th>Nombre de Champs personnalisés (Participants)</th>\n",
       "      <th>Annee</th>\n",
       "      <th>Jour</th>\n",
       "      <th>Mois</th>\n",
       "      <th>Nombre de Composants</th>\n",
       "      <th>Nombre de Versions corrigées</th>\n",
       "      <th>Nb_heures</th>\n",
       "      <th>Type de Version</th>\n",
       "    </tr>\n",
       "  </thead>\n",
       "  <tbody>\n",
       "    <tr>\n",
       "      <th>0</th>\n",
       "      <td>10</td>\n",
       "      <td>1</td>\n",
       "      <td>1</td>\n",
       "      <td>2022</td>\n",
       "      <td>0</td>\n",
       "      <td>3</td>\n",
       "      <td>1</td>\n",
       "      <td>0</td>\n",
       "      <td>2</td>\n",
       "      <td>0</td>\n",
       "    </tr>\n",
       "    <tr>\n",
       "      <th>1</th>\n",
       "      <td>10</td>\n",
       "      <td>1</td>\n",
       "      <td>1</td>\n",
       "      <td>2022</td>\n",
       "      <td>6</td>\n",
       "      <td>3</td>\n",
       "      <td>1</td>\n",
       "      <td>0</td>\n",
       "      <td>2</td>\n",
       "      <td>0</td>\n",
       "    </tr>\n",
       "    <tr>\n",
       "      <th>2</th>\n",
       "      <td>10</td>\n",
       "      <td>1</td>\n",
       "      <td>1</td>\n",
       "      <td>2022</td>\n",
       "      <td>0</td>\n",
       "      <td>2</td>\n",
       "      <td>1</td>\n",
       "      <td>0</td>\n",
       "      <td>20</td>\n",
       "      <td>0</td>\n",
       "    </tr>\n",
       "    <tr>\n",
       "      <th>3</th>\n",
       "      <td>10</td>\n",
       "      <td>1</td>\n",
       "      <td>1</td>\n",
       "      <td>2022</td>\n",
       "      <td>3</td>\n",
       "      <td>1</td>\n",
       "      <td>1</td>\n",
       "      <td>0</td>\n",
       "      <td>4</td>\n",
       "      <td>0</td>\n",
       "    </tr>\n",
       "    <tr>\n",
       "      <th>4</th>\n",
       "      <td>10</td>\n",
       "      <td>1</td>\n",
       "      <td>1</td>\n",
       "      <td>2022</td>\n",
       "      <td>2</td>\n",
       "      <td>1</td>\n",
       "      <td>1</td>\n",
       "      <td>0</td>\n",
       "      <td>6</td>\n",
       "      <td>0</td>\n",
       "    </tr>\n",
       "    <tr>\n",
       "      <th>...</th>\n",
       "      <td>...</td>\n",
       "      <td>...</td>\n",
       "      <td>...</td>\n",
       "      <td>...</td>\n",
       "      <td>...</td>\n",
       "      <td>...</td>\n",
       "      <td>...</td>\n",
       "      <td>...</td>\n",
       "      <td>...</td>\n",
       "      <td>...</td>\n",
       "    </tr>\n",
       "    <tr>\n",
       "      <th>102349</th>\n",
       "      <td>1</td>\n",
       "      <td>5</td>\n",
       "      <td>5</td>\n",
       "      <td>2019</td>\n",
       "      <td>6</td>\n",
       "      <td>3</td>\n",
       "      <td>4</td>\n",
       "      <td>4</td>\n",
       "      <td>7</td>\n",
       "      <td>1</td>\n",
       "    </tr>\n",
       "    <tr>\n",
       "      <th>102350</th>\n",
       "      <td>10</td>\n",
       "      <td>5</td>\n",
       "      <td>5</td>\n",
       "      <td>2009</td>\n",
       "      <td>6</td>\n",
       "      <td>3</td>\n",
       "      <td>3</td>\n",
       "      <td>3</td>\n",
       "      <td>7</td>\n",
       "      <td>1</td>\n",
       "    </tr>\n",
       "    <tr>\n",
       "      <th>102351</th>\n",
       "      <td>7</td>\n",
       "      <td>4</td>\n",
       "      <td>5</td>\n",
       "      <td>2019</td>\n",
       "      <td>7</td>\n",
       "      <td>7</td>\n",
       "      <td>3</td>\n",
       "      <td>4</td>\n",
       "      <td>2</td>\n",
       "      <td>0</td>\n",
       "    </tr>\n",
       "    <tr>\n",
       "      <th>102352</th>\n",
       "      <td>10</td>\n",
       "      <td>4</td>\n",
       "      <td>5</td>\n",
       "      <td>2016</td>\n",
       "      <td>6</td>\n",
       "      <td>3</td>\n",
       "      <td>3</td>\n",
       "      <td>3</td>\n",
       "      <td>6</td>\n",
       "      <td>2</td>\n",
       "    </tr>\n",
       "    <tr>\n",
       "      <th>102353</th>\n",
       "      <td>0</td>\n",
       "      <td>4</td>\n",
       "      <td>5</td>\n",
       "      <td>2017</td>\n",
       "      <td>6</td>\n",
       "      <td>6</td>\n",
       "      <td>4</td>\n",
       "      <td>3</td>\n",
       "      <td>6</td>\n",
       "      <td>1</td>\n",
       "    </tr>\n",
       "  </tbody>\n",
       "</table>\n",
       "<p>102354 rows × 10 columns</p>\n",
       "</div>"
      ],
      "text/plain": [
       "        Type de ticket  Priorité  \\\n",
       "0                   10         1   \n",
       "1                   10         1   \n",
       "2                   10         1   \n",
       "3                   10         1   \n",
       "4                   10         1   \n",
       "...                ...       ...   \n",
       "102349               1         5   \n",
       "102350              10         5   \n",
       "102351               7         4   \n",
       "102352              10         4   \n",
       "102353               0         4   \n",
       "\n",
       "        Nombre de Champs personnalisés (Participants)  Annee  Jour  Mois  \\\n",
       "0                                                   1   2022     0     3   \n",
       "1                                                   1   2022     6     3   \n",
       "2                                                   1   2022     0     2   \n",
       "3                                                   1   2022     3     1   \n",
       "4                                                   1   2022     2     1   \n",
       "...                                               ...    ...   ...   ...   \n",
       "102349                                              5   2019     6     3   \n",
       "102350                                              5   2009     6     3   \n",
       "102351                                              5   2019     7     7   \n",
       "102352                                              5   2016     6     3   \n",
       "102353                                              5   2017     6     6   \n",
       "\n",
       "        Nombre de Composants  Nombre de Versions corrigées  Nb_heures  \\\n",
       "0                          1                             0          2   \n",
       "1                          1                             0          2   \n",
       "2                          1                             0         20   \n",
       "3                          1                             0          4   \n",
       "4                          1                             0          6   \n",
       "...                      ...                           ...        ...   \n",
       "102349                     4                             4          7   \n",
       "102350                     3                             3          7   \n",
       "102351                     3                             4          2   \n",
       "102352                     3                             3          6   \n",
       "102353                     4                             3          6   \n",
       "\n",
       "        Type de Version  \n",
       "0                     0  \n",
       "1                     0  \n",
       "2                     0  \n",
       "3                     0  \n",
       "4                     0  \n",
       "...                 ...  \n",
       "102349                1  \n",
       "102350                1  \n",
       "102351                0  \n",
       "102352                2  \n",
       "102353                1  \n",
       "\n",
       "[102354 rows x 10 columns]"
      ]
     },
     "execution_count": 22,
     "metadata": {},
     "output_type": "execute_result"
    }
   ],
   "source": [
    "data"
   ]
  },
  {
   "cell_type": "code",
   "execution_count": 119,
   "metadata": {},
   "outputs": [],
   "source": [
    "def prediction_time(project,jira):\n",
    "    data=[]\n",
    "    time=[]\n",
    "    #data=[{}]\n",
    "    last_ticket=\"\"\n",
    "    persons=[]\n",
    "    arret=False\n",
    "    i=0\n",
    "    test=False\n",
    "    size = 100\n",
    "    initial = 0\n",
    "    while True:\n",
    "        start= initial*size\n",
    "        issues = jira.search_issues('project={}'.format(project), start,size)\n",
    "        if len(issues) == 0:\n",
    "            break\n",
    "        initial += 1\n",
    "\n",
    "        if(not test):\n",
    "            last_ticket=issues[0].key.split(\"-\")[1]\n",
    "            test=True\n",
    "        \n",
    "        for issue in issues:\n",
    "            if (issue.fields.resolutiondate ): \n",
    "                d1=datetime.strptime((issue.fields.resolutiondate.split('.'))[0],'%Y-%m-%dT%H:%M:%S')\n",
    "                if (d1>datetime.today()-timedelta(20)):\n",
    "                    dict={\"Type de ticket\":0,\"Priority\":0,\"Nombre de participant\":0,\"Annee\":0,\"Jour\":0,\"Mois\":0,\"Nombre de Composants\":0,\"Nombre de Versions corrigées\":0,\"Type de Version\":\"Patch\"}\n",
    "                    dict[\"Type de ticket\"]=issue.fields.issuetype.name \n",
    "                    dict[\"Priority\"]=issue.fields.priority.name \n",
    "                    dict[\"Nombre de participant\"]=len(issue.fields.customfield_10050)\n",
    "                    dict[\"Annee\"]=d1.year \n",
    "                    dict[\"Mois\"]=d1.month\n",
    "                    dict[\"Jour\"]=d1.day \n",
    "                    dict[\"Nombre de Composants\"]=len(issue.fields.components)\n",
    "                    dict[\"Nombre de Versions corrigées\"]=len(issue.fields.components)\n",
    "                    if (len(issue.fields.fixVersions) != 0): \n",
    "                        print(issue.fields.fixVersions)\n",
    "                        if (len((issue.fields.fixVersions)[0].name.split(\".\")) ==3):\n",
    "                            if (((issue.fields.fixVersions)[0].name.split(\".\"))[0] != 0 ):\n",
    "                                dict[\"Type de Version\"]='Majeur' \n",
    "                            elif (((issue.fields.fixVersions)[0].name.split(\".\"))[0] == 0 and ((issues[0].fields.fixVersions)[1].name.split(\".\"))[0] != 0):\n",
    "                                dict[\"Type de Version\"]='Mineur'\n",
    "                            else :\n",
    "                                dict[\"Type de Version\"]='Patch' \n",
    "                    data.append(dict)\n",
    "                    d2=datetime.strptime((issue.fields.created.split('.'))[0],'%Y-%m-%dT%H:%M:%S')\n",
    "                    time.append(((d1-d2).seconds/3600 + (d1-d2).days*24))\n",
    "                else: \n",
    "                    arret=True\n",
    "                    break   \n",
    "        if (arret == True):\n",
    "            break\n",
    "    return data,time,last_ticket"
   ]
  },
  {
   "cell_type": "code",
   "execution_count": 120,
   "metadata": {},
   "outputs": [],
   "source": [
    "def preparation_data(project,jira):\n",
    "    hh=prediction_time(project,jira)\n",
    "    for i in hh[0]:\n",
    "        if(i['Type de ticket']==\"Bug\"):\n",
    "            i['Type de ticket']=\"Bug\"\n",
    "        elif(i['Type de ticket']==\"Task\"):\n",
    "            i['Type de ticket']=\"Tâche\"\n",
    "\n",
    "        elif(i['Type de ticket']==\"Improvement\"):\n",
    "            i['Type de ticket']=\"Amélioration\"\n",
    "            \n",
    "        elif(i['Type de ticket']==\"Sub-task\"):\n",
    "            i['Type de ticket']=\"Sous-tâche\"\n",
    "\n",
    "        elif(i['Type de ticket']==\"New Feature\"):\n",
    "            i['Type de ticket']=\"Nouvelle fonctionnalité\"\n",
    "        \n",
    "        elif(i['Type de ticket']==\"Deprecation\"):\n",
    "            i['Type de ticket']=\"Deprecation\"\n",
    "        elif(i['Type de ticket']==\"Epic\"):\n",
    "            i['Type de ticket']=\"Epic\"\n",
    "        elif(i['Type de ticket']==\"Remove Feature\"):\n",
    "            i['Type de ticket']=\"Remove Feature\"\n",
    "        elif(i['Type de ticket']==\"Patch\"):\n",
    "            i['Type de ticket']=\"Patch\"  \n",
    "\n",
    "        elif(i['Type de ticket']==\"Technical task\"):\n",
    "            i['Type de ticket']=\"Technical task\"\n",
    "        elif(i['Type de ticket']==\"Story\"):\n",
    "            i['Type de ticket']=\"Story\" \n",
    "\n",
    "\n",
    "    for i in hh[0]:\n",
    "        if (i['Priority']==\"Trivial\"):\n",
    "            i['Priority']=1\n",
    "        elif (i['Priority']==\"Minor\"):\n",
    "            i['Priority']=2\n",
    "        elif (i['Priority']==\"Major\"):\n",
    "            i['Priority']=3\n",
    "        elif (i['Priority']==\"Critical\"):\n",
    "            i['Priority']=4\n",
    "        elif (i['Priority']==\"Blocker\"):\n",
    "            i['Priority']=5\n",
    "    \n",
    "    file = open('../IA/encoderTypeTicket', 'rb')\n",
    "    Type_ticket = pickle.load(file)\n",
    "    file.close()\n",
    "    for i in hh[0]:\n",
    "        i['Type de ticket']=(Type_ticket.transform([i['Type de ticket']]))[0]   \n",
    "    \n",
    "    file1 = open('../IA/encoderTypeVersion', 'rb')\n",
    "\n",
    "    Type_Version = pickle.load(file1)\n",
    "    file1.close()\n",
    "    for i in hh[0]:\n",
    "        i['Type de Version']=(Type_Version.transform([i['Type de Version']]))[0]\n",
    "    \n",
    "    filehandler2 = open('../IA/time', 'rb')\n",
    "\n",
    "    loaded_model = pickle.load(filehandler2)\n",
    "    filehandler2.close()\n",
    "    for i in hh[0] :\n",
    "        preds=loaded_model.predict([list(i.values())])\n",
    "        i[\"prediction\"]=preds[0]\n",
    "    return hh"
   ]
  },
  {
   "cell_type": "code",
   "execution_count": 121,
   "metadata": {},
   "outputs": [],
   "source": [
    "from datetime import datetime\n",
    "import calendar \n",
    "\n",
    "def findDay(date): \n",
    "    born = datetime.strptime(date, '%d %m %Y').weekday() \n",
    "    return (calendar.day_name[born]) \n",
    "def final_output(project,jira):\n",
    "    hh=preparation_data(project,jira)\n",
    "    L=[]\n",
    "    for i in range(len(hh[0])-1):\n",
    "        dict={\"Jour\":\"Lundi\", \"Prediction\":0 ,\"real\":0}\n",
    "        t =findDay(str(hh[0][i][\"Jour\"])+' '+str(hh[0][i][\"Mois\"])+' '+str(hh[0][i][\"Annee\"]))\n",
    "        dict[\"Jour\"]= t\n",
    "        dict[\"Prediction\"] =hh[0][i]['prediction']\n",
    "        dict['real']=hh[1][i]\n",
    "        L.append(dict)\n",
    "    \n",
    "    final={\"Monday\":[0,0,0], \"Tuesday\":[0,0,0], \"Wednesday\":[0,0,0], \"Thursday\":[0,0,0],\"Friday\":[0,0,0], \"Saturday\":[0,0,0], \"Sunday\":[0,0,0]}\n",
    "    for i in L:\n",
    "        if i['Jour']==\"Monday\":\n",
    "            final[\"Monday\"][0] = final[\"Monday\"][0]+i['Prediction']\n",
    "            final[\"Monday\"][1] = final[\"Monday\"][1]+i[\"real\"]\n",
    "            final[\"Monday\"][2] +=1 \n",
    "        if i['Jour']==\"Tuesday\":\n",
    "            final[\"Tuesday\"][0] += i['Prediction']\n",
    "            final[\"Tuesday\"][1] += i[\"real\"]\n",
    "            final[\"Tuesday\"][2] +=1 \n",
    "        if i['Jour']==\"Wednesday\":\n",
    "            final[\"Wednesday\"][0] += i['Prediction']\n",
    "            final[\"Wednesday\"][1] += i[\"real\"]\n",
    "            final[\"Wednesday\"][2] +=1 \n",
    "        if i['Jour']==\"Thursday\":\n",
    "            final[\"Thursday\"][0] += i['Prediction']\n",
    "            final[\"Thursday\"][1] += i[\"real\"]\n",
    "            final[\"Thursday\"][2] +=1 \n",
    "        if i['Jour']==\"Friday\":\n",
    "            final[\"Friday\"][0] += i['Prediction']\n",
    "            final[\"Friday\"][1] += i[\"real\"]\n",
    "            final[\"Friday\"][2] +=1 \n",
    "        if i['Jour']==\"Saturday\":\n",
    "            final[\"Saturday\"][0] += i['Prediction']\n",
    "            final[\"Saturday\"][1] += i[\"real\"]\n",
    "            final[\"Saturday\"][2] +=1 \n",
    "        if i['Jour']==\"Sunday\":\n",
    "            final[\"Sunday\"][0] += i['Prediction']\n",
    "            final[\"Sunday\"][1] += i[\"real\"]\n",
    "            final[\"Sunday\"][2] +=1 \n",
    "\n",
    "    for i in final.keys():\n",
    "        if (final[i][2] != 0):\n",
    "            final[i][0]=final[i][0]/final[i][2]\n",
    "            final[i][1]=final[i][1]/final[i][2]\n",
    "\n",
    "    return final,hh[2]\n",
    "    \n"
   ]
  },
  {
   "cell_type": "code",
   "execution_count": 122,
   "metadata": {},
   "outputs": [
    {
     "name": "stdout",
     "output_type": "stream",
     "text": [
      "[<JIRA Version: name='5.6.8', id='32056'>, <JIRA Version: name='6.0.Next', id='32061'>]\n",
      "[<JIRA Version: name='6.0.Next', id='32061'>]\n",
      "[<JIRA Version: name='6.0.Next', id='32061'>]\n",
      "[<JIRA Version: name='6.0.Next', id='32061'>]\n",
      "[<JIRA Version: name='6.0.Next', id='32061'>]\n",
      "[<JIRA Version: name='6.0.Next', id='32061'>]\n",
      "[<JIRA Version: name='6.0.Next', id='32061'>]\n",
      "[<JIRA Version: name='6.0.Next', id='32061'>]\n",
      "[<JIRA Version: name='6.0.Next', id='32061'>]\n",
      "[<JIRA Version: name='6.0.Next', id='32061'>]\n",
      "[<JIRA Version: name='6.0.Next', id='32061'>]\n",
      "[<JIRA Version: name='6.0.Next', id='32061'>]\n",
      "[<JIRA Version: name='6.0.Next', id='32061'>]\n",
      "[<JIRA Version: name='6.0.Next', id='32061'>]\n",
      "[<JIRA Version: name='6.0.Next', id='32061'>]\n",
      "[<JIRA Version: name='6.0.Next', id='32061'>]\n",
      "[<JIRA Version: name='6.0.Next', id='32061'>]\n",
      "[<JIRA Version: name='6.0.Next', id='32061'>]\n"
     ]
    },
    {
     "data": {
      "text/plain": [
       "({'Monday': [74.15267346938775, 39.986785714285716, 7],\n",
       "  'Tuesday': [47.19699999999999, 22.983666666666668, 5],\n",
       "  'Wednesday': [29.11166666666667, 2.8175, 4],\n",
       "  'Thursday': [70.23583333333333, 29.189305555555556, 2],\n",
       "  'Friday': [38.472500000000004, 22.130185185185184, 3],\n",
       "  'Saturday': [0, 0, 0],\n",
       "  'Sunday': [0, 0, 0]},\n",
       " '15218')"
      ]
     },
     "execution_count": 122,
     "metadata": {},
     "output_type": "execute_result"
    }
   ],
   "source": [
    "final_output(\"HHH\",jira)"
   ]
  },
  {
   "cell_type": "code",
   "execution_count": 6,
   "metadata": {},
   "outputs": [
    {
     "name": "stdout",
     "output_type": "stream",
     "text": [
      "2014-07-01 00:00:00\n"
     ]
    }
   ],
   "source": [
    "import datetime\n",
    "import calendar\n",
    "dt = datetime.datetime(year=2014, month=5, day=31)\n",
    "d = calendar.monthrange(dt.year,dt.month+1)[1] \n",
    "print (dt+datetime.timedelta(days=d+1))"
   ]
  },
  {
   "cell_type": "code",
   "execution_count": 7,
   "metadata": {},
   "outputs": [
    {
     "name": "stdout",
     "output_type": "stream",
     "text": [
      "Today's date: 2022-04-21\n"
     ]
    }
   ],
   "source": [
    "from datetime import date\n",
    "\n",
    "today = date.today()\n",
    "print(\"Today's date:\", today)"
   ]
  },
  {
   "cell_type": "code",
   "execution_count": 16,
   "metadata": {},
   "outputs": [],
   "source": [
    "from datetime import datetime,date,timedelta\n",
    "import pickle\n",
    "def prediction_nombre_ticket(project,jira):\n",
    "    issues = jira.search_issues('project={}'.format(project), 0,1)\n",
    "    last_ticket=issues[0].key.split(\"-\")[1]\n",
    "    liste=[\"Jan\",\"Feb\",\"March\",\"Apr\",\"Mai\",\"Jun\",\"Jul\",\"Aug\",\"Sep\",\"Oct\",\"Nov\",\"Dec\"]\n",
    "    dict={}\n",
    "    today = date.today()\n",
    "    k = today.month \n",
    "    while (k != 13):\n",
    "        dict[liste[k-1]]=0\n",
    "        k+=1 \n",
    "    dict\n",
    "    filehandler2 = open('../IA/ticketParMois', 'rb')\n",
    "\n",
    "    loaded_model = pickle.load(filehandler2)\n",
    "    filehandler2.close()\n",
    "    # preds=loaded_model.predict([[0,today.year,today.month,today.day]])\n",
    "    for j in range(len(dict.keys())):\n",
    "        s =0\n",
    "        for i in range(31):\n",
    "            if((datetime(year=today.year, month=today.month+j, day=1)+timedelta(i)).month == today.month+j):\n",
    "                s=s+abs((loaded_model.predict([[0,today.year,today.month,i]]))[0])\n",
    "                s=s+(loaded_model.predict([[1,today.year,today.month,i]]))[0]\n",
    "                s=s+(loaded_model.predict([[2,today.year,today.month,i]]))[0]\n",
    "                s=s+(loaded_model.predict([[3,today.year,today.month,i]]))[0]\n",
    "                s=s+(loaded_model.predict([[4,today.year,today.month,i]]))[0]\n",
    "                s=s+(loaded_model.predict([[5,today.year,today.month,i]]))[0]\n",
    "                s=s+(loaded_model.predict([[6,today.year,today.month,i]]))[0]\n",
    "                s=s+(loaded_model.predict([[7,today.year,today.month,i]]))[0]\n",
    "                s=s+(loaded_model.predict([[8,today.year,today.month,i]]))[0]\n",
    "                s=s+(loaded_model.predict([[9,today.year,today.month,i]]))[0]\n",
    "                s=s+(loaded_model.predict([[10,today.year,today.month,i]]))[0]\n",
    "        dict[list(dict.keys())[j]]=int(s)\n",
    "    return dict,last_ticket\n",
    "\n",
    "    \n",
    "    \n",
    "\n"
   ]
  },
  {
   "cell_type": "code",
   "execution_count": 15,
   "metadata": {},
   "outputs": [],
   "source": [
    "import warnings\n",
    "warnings.filterwarnings('ignore')\n",
    "import math\n",
    "import pickle\n",
    "def Prediction_Number_Participants(issue_type,priority,annee,jour,mois,number_components,number_versions,version_type):\n",
    "    model_cb = CatBoostClassifier(task_type='GPU', iterations=100, random_state = 2021, eval_metric=\"Accuracy\",boost_from_average=False)\n",
    "    model_participant=model_cb.load_model(\"../IA/participant\")\n",
    "    \n",
    "    file = open('../IA/encoderTypeTicket', 'rb')\n",
    "    Type_ticket = pickle.load(file)\n",
    "\n",
    "    issue_type_enc=(Type_ticket.transform([issue_type]))[0]\n",
    "\n",
    "    file = open('../IA/encoderTypeVersion', 'rb')\n",
    "    Type_version = pickle.load(file)\n",
    "\n",
    "    version_type_enc=(Type_version.transform([version_type]))[0]\n",
    "\n",
    "    return (model_participant.predict([[issue_type_enc,int(priority),annee,jour,mois,int(number_components),int(number_versions),version_type_enc]]))[0][0]\n"
   ]
  },
  {
   "cell_type": "code",
   "execution_count": 16,
   "metadata": {},
   "outputs": [
    {
     "data": {
      "text/plain": [
       "1"
      ]
     },
     "execution_count": 16,
     "metadata": {},
     "output_type": "execute_result"
    }
   ],
   "source": [
    "Prediction_Number_Participants(\"Bug\",1,2022,22,5,1,1,\"Majeur\")"
   ]
  },
  {
   "cell_type": "code",
   "execution_count": 7,
   "metadata": {},
   "outputs": [],
   "source": [
    "filehandler2 = open('../IA/ticketParMois', 'rb')\n",
    "loaded_model = pickle.load(filehandler2)\n",
    "filehandler2.close()"
   ]
  },
  {
   "cell_type": "code",
   "execution_count": 1,
   "metadata": {},
   "outputs": [],
   "source": [
    "from catboost import CatBoostClassifier\n",
    "\n"
   ]
  },
  {
   "cell_type": "code",
   "execution_count": 12,
   "metadata": {},
   "outputs": [],
   "source": [
    "file = open('../IA/encoderTypeTicket', 'rb')\n",
    "Type_ticket = pickle.load(file)\n",
    "issue_type_enc=(Type_ticket.transform(['Bug']))[0]"
   ]
  },
  {
   "cell_type": "code",
   "execution_count": 13,
   "metadata": {},
   "outputs": [
    {
     "data": {
      "text/plain": [
       "1"
      ]
     },
     "execution_count": 13,
     "metadata": {},
     "output_type": "execute_result"
    }
   ],
   "source": [
    "issue_type_enc"
   ]
  },
  {
   "cell_type": "code",
   "execution_count": 16,
   "metadata": {},
   "outputs": [],
   "source": [
    "def Prediction_Number_Hours(issue_type,priority,nb_participant,annee,jour,mois,number_components,number_versions,version_type):\n",
    "   \n",
    "    \n",
    "    file = open('../IA/encoderTypeTicket', 'rb')\n",
    "    Type_ticket = pickle.load(file)\n",
    "\n",
    "    issue_type_enc=(Type_ticket.transform([issue_type]))[0]\n",
    "\n",
    "    file = open('../IA/encoderTypeVersion', 'rb')\n",
    "    Type_version = pickle.load(file)\n",
    "\n",
    "    version_type_enc=(Type_version.transform([version_type]))[0]\n",
    "\n",
    "    file = open('../IA/time', 'rb')\n",
    "    model_hours = pickle.load(file)\n",
    "\n",
    "\n",
    "    return (model_hours.predict([[issue_type_enc,int(priority),nb_participant,int(annee),int(jour),int(mois),int(number_components),int(number_versions),version_type_enc]]))[0]\n"
   ]
  },
  {
   "cell_type": "code",
   "execution_count": 17,
   "metadata": {},
   "outputs": [
    {
     "data": {
      "text/plain": [
       "2.2636666666666665"
      ]
     },
     "execution_count": 17,
     "metadata": {},
     "output_type": "execute_result"
    }
   ],
   "source": [
    "Prediction_Number_Hours(\"Bug\",1,5,2022,22,5,1,1,\"Majeur\")"
   ]
  },
  {
   "cell_type": "code",
   "execution_count": null,
   "metadata": {},
   "outputs": [],
   "source": []
  }
 ],
 "metadata": {
  "interpreter": {
   "hash": "604e303b7d486cf71f76111fa8cec80a77b2291d4db681af75c2c66646e17c1d"
  },
  "kernelspec": {
   "display_name": "Python 3.10.0 ('env': venv)",
   "language": "python",
   "name": "python3"
  },
  "language_info": {
   "codemirror_mode": {
    "name": "ipython",
    "version": 3
   },
   "file_extension": ".py",
   "mimetype": "text/x-python",
   "name": "python",
   "nbconvert_exporter": "python",
   "pygments_lexer": "ipython3",
   "version": "3.9.9"
  },
  "orig_nbformat": 4
 },
 "nbformat": 4,
 "nbformat_minor": 2
}
